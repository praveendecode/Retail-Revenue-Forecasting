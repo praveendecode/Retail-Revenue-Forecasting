{
  "nbformat": 4,
  "nbformat_minor": 0,
  "metadata": {
    "colab": {
      "provenance": []
    },
    "kernelspec": {
      "name": "python3",
      "display_name": "Python 3"
    },
    "language_info": {
      "name": "python"
    }
  },
  "cells": [
    {
      "cell_type": "markdown",
      "source": [
        "# **Visit Dashboard [Click](https://public.tableau.com/views/retail-sales-forecast/Dashboard1?:language=en-US&:display_count=n&:origin=viz_share_link)**"
      ],
      "metadata": {
        "id": "kYWA1rclGItF"
      }
    }
  ]
}