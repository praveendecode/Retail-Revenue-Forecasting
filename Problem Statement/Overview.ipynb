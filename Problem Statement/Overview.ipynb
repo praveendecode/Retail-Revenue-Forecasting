{
  "nbformat": 4,
  "nbformat_minor": 0,
  "metadata": {
    "colab": {
      "provenance": []
    },
    "kernelspec": {
      "name": "python3",
      "display_name": "Python 3"
    },
    "language_info": {
      "name": "python"
    }
  },
  "cells": [
    {
      "cell_type": "markdown",
      "source": [
        "# **Overview:**\n",
        "\n",
        "The retail forecast dataset from Kaggle encompasses crucial information about store and department-wise sales, marked by key features such as Temperature, fuel prices, markdowns, and economic indicators. The goal is to dfind patterns, predict future sales, and derive actionable insights for strategic decision-making.\n",
        "\n",
        "# **Feature Explanation:**\n",
        "\n",
        "    Store and Dept:\n",
        "        Identifiers for the store and department\n",
        "\n",
        "    IsHoliday:\n",
        "        Binary indicator denoting whether a week includes a holiday.\n",
        "\n",
        "    Temperature and Fuel_Price:\n",
        "        Consist data about store temperature and fuel price of the particular date.\n",
        "\n",
        "    Day, Month, Year:\n",
        "        Attributes capturing the timing of sales.\n",
        "\n",
        "    Type and Size:\n",
        "        Store characteristics impacting sales, including size and store type.\n",
        "\n",
        "    MarkDowns (1-5):\n",
        "        Attibutes has data about the reduction of price in sales on particular date.\n",
        "\n",
        "    CPI and Unemployment:\n",
        "        Economic indicators affecting consumer spending patterns.\n",
        "\n",
        "    Weekly_Sales:\n",
        "        The target variable, representing weekly department-wide sales.\n",
        "\n",
        "# **Task Overview:**\n",
        "\n",
        "    Predict Department-wide Sales:\n",
        "        Utilize historical data to forecast sales for each department in every store for the user given year.\n",
        "\n",
        "    Model Effects of Markdowns on Holidays:\n",
        "        Investigate the impact of markdowns during holiday weeks on sales.\n",
        "\n",
        "    Provide Recommended Actions:\n",
        "        Derive actionable insights and prioritize recommendations based on observed patterns and relationships, focusing on the most significant\n",
        "        business impact.\n",
        "\n",
        "# **Insight Prioritization:**\n",
        "\n",
        "    Identify key insights that can drive strategic decisions and enhance overall business performance, ensuring prioritization aligns with\n",
        "    maximizing impact.\n"
      ],
      "metadata": {
        "id": "38DJWATR-QBt"
      }
    }
  ]
}
