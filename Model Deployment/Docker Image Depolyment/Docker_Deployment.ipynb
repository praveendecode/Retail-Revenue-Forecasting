{
  "nbformat": 4,
  "nbformat_minor": 0,
  "metadata": {
    "colab": {
      "provenance": []
    },
    "kernelspec": {
      "name": "python3",
      "display_name": "Python 3"
    },
    "language_info": {
      "name": "python"
    }
  },
  "cells": [
    {
      "cell_type": "markdown",
      "source": [
        "# **View Repository  [Click](https://github.com/praveendecode/Docker-rfs)**\n",
        "\n",
        "# **View Docker Repo [Click](https://hub.docker.com/repositories/praveendecode)**\n",
        "\n"
      ],
      "metadata": {
        "id": "kYWA1rclGItF"
      }
    }
  ]
}