{
  "nbformat": 4,
  "nbformat_minor": 0,
  "metadata": {
    "colab": {
      "provenance": []
    },
    "kernelspec": {
      "name": "python3",
      "display_name": "Python 3"
    },
    "language_info": {
      "name": "python"
    }
  },
  "cells": [
    {
      "cell_type": "markdown",
      "source": [
        "# **Colab LInk : [Click](https://colab.research.google.com/drive/1h70p6bJhWNBF4Iwd5zAWQ9dB7Dlzgh1d?usp=sharing)**"
      ],
      "metadata": {
        "id": "qB46sHbriCMD"
      }
    },
    {
      "cell_type": "code",
      "execution_count": null,
      "metadata": {
        "id": "k3gFzSzMeJjq"
      },
      "outputs": [],
      "source": [
        "import urllib.request\n",
        "import json\n",
        "import os\n",
        "import ssl\n",
        "\n",
        "def allowSelfSignedHttps(allowed):\n",
        "\n",
        "    if allowed and not os.environ.get('PYTHONHTTPSVERIFY', '') and getattr(ssl, '_create_unverified_context', None):\n",
        "        ssl._create_default_https_context = ssl._create_unverified_context\n",
        "\n",
        "allowSelfSignedHttps(True)\n",
        "\n",
        "data =  {\n",
        "  \"Inputs\": {\n",
        "    \"input1\": [\n",
        "      {\n",
        "        \"Store\": 1,\n",
        "        \"Dept\": 1,\n",
        "        \"IsHoliday\": 0,\n",
        "        \"Temperature\": 42.31,\n",
        "        \"Fuel_Price\": 2.572,\n",
        "        \"Day\": 5,\n",
        "        \"Month\": 2,\n",
        "        \"Year\": 2010,\n",
        "        \"Type\": 1,\n",
        "        \"Size\": 151315,\n",
        "        \"MarkDown1\": 7422.4664,\n",
        "        \"MarkDown2\": 6443.321999999999,\n",
        "        \"MarkDown3\": 145.5875,\n",
        "        \"MarkDown4\": 16721.9869,\n",
        "        \"MarkDown5\": 4489.6821,\n",
        "        \"CPI\": 211.096358,\n",
        "        \"Unemployment\": 8.106,\n",
        "        \"Weekly_Sales\": 24924.5\n",
        "      }]\n",
        "\n",
        "\n",
        "  },\n",
        "  \"GlobalParameters\": {}\n",
        "}\n",
        "\n",
        "\n",
        "\n",
        "body = str.encode(json.dumps(data))\n",
        "\n",
        "url = 'http://4a57c54a-422b-4d75-b8da-370b1978c198.eastus.azurecontainer.io/score'\n",
        "\n",
        "\n",
        "# Replace this with the primary/secondary  endpoint\n",
        "\n",
        "api_key = ''                        # Provide API KEY\n",
        "\n",
        "if not api_key:\n",
        "    raise Exception(\"A key should be provided to invoke the endpoint\")\n",
        "\n",
        "\n",
        "headers = {'Content-Type':'application/json', 'Authorization':('Bearer '+ api_key)}\n",
        "\n",
        "req = urllib.request.Request(url, body, headers)\n",
        "\n",
        "try:\n",
        "    response = urllib.request.urlopen(req)\n",
        "\n",
        "    result = response.read()   # We got the inference result\n",
        "\n",
        "except urllib.error.HTTPError as error:\n",
        "\n",
        "    print(\"The request failed with status code: \" + str(error.code))\n",
        "    print(error.info())\n",
        "    print(error.read().decode(\"utf8\", 'ignore'))"
      ]
    },
    {
      "cell_type": "code",
      "source": [
        "result"
      ],
      "metadata": {
        "colab": {
          "base_uri": "https://localhost:8080/"
        },
        "id": "eK9qAznPeLs3",
        "outputId": "b408ced2-0066-45e7-984c-86cab4fc92d1"
      },
      "execution_count": null,
      "outputs": [
        {
          "output_type": "execute_result",
          "data": {
            "text/plain": [
              "b'{\"Results\": {\"WebServiceOutput0\": [{\"Scored Labels\": 26776.99125}]}}'"
            ]
          },
          "metadata": {},
          "execution_count": 13
        }
      ]
    },
    {
      "cell_type": "code",
      "source": [
        "import json\n",
        "\n",
        "json_string = result\n",
        "\n",
        "result_dict = json.loads(json_string.decode('utf-8'))\n",
        "\n",
        "scored_labels = [item[\"Scored Labels\"] for item in result_dict[\"Results\"][\"WebServiceOutput0\"]]\n",
        "\n",
        "print(scored_labels)"
      ],
      "metadata": {
        "colab": {
          "base_uri": "https://localhost:8080/"
        },
        "id": "drs80ujdeur9",
        "outputId": "f090f54f-82e5-4c58-9717-9914df9a78c9"
      },
      "execution_count": null,
      "outputs": [
        {
          "output_type": "stream",
          "name": "stdout",
          "text": [
            "[26776.99125]\n"
          ]
        }
      ]
    }
  ]
}