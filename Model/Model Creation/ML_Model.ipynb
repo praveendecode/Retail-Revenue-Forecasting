{
  "cells": [
    {
      "cell_type": "markdown",
      "source": [
        "# **Colab   [Click](https://colab.research.google.com/drive/1PhlCHiYpG2q5Y4YGumkjoMa5AFezCpw8?usp=sharing)**"
      ],
      "metadata": {
        "id": "d5uftt0zJtUm"
      }
    },
    {
      "cell_type": "markdown",
      "source": [
        "# **Model Building  (ExtraTreesRegressor)**"
      ],
      "metadata": {
        "id": "i7uZrkObbvrB"
      }
    },
    {
      "cell_type": "code",
      "source": [
        "xtrain,xtest,ytrain,ytest = train_test_split(x,y,test_size=0.2)"
      ],
      "metadata": {
        "id": "kEAd-vADdQyM"
      },
      "execution_count": null,
      "outputs": []
    },
    {
      "cell_type": "code",
      "source": [
        "model = ExtraTreesRegressor().fit(xtrain,ytrain)\n",
        "\n",
        "model"
      ],
      "metadata": {
        "colab": {
          "base_uri": "https://localhost:8080/",
          "height": 74
        },
        "id": "O8qOlhljbzxO",
        "outputId": "22408475-7eb8-4e3e-d38f-d3c708426057"
      },
      "execution_count": null,
      "outputs": [
        {
          "output_type": "execute_result",
          "data": {
            "text/plain": [
              "ExtraTreesRegressor()"
            ],
            "text/html": [
              "<style>#sk-container-id-1 {color: black;background-color: white;}#sk-container-id-1 pre{padding: 0;}#sk-container-id-1 div.sk-toggleable {background-color: white;}#sk-container-id-1 label.sk-toggleable__label {cursor: pointer;display: block;width: 100%;margin-bottom: 0;padding: 0.3em;box-sizing: border-box;text-align: center;}#sk-container-id-1 label.sk-toggleable__label-arrow:before {content: \"▸\";float: left;margin-right: 0.25em;color: #696969;}#sk-container-id-1 label.sk-toggleable__label-arrow:hover:before {color: black;}#sk-container-id-1 div.sk-estimator:hover label.sk-toggleable__label-arrow:before {color: black;}#sk-container-id-1 div.sk-toggleable__content {max-height: 0;max-width: 0;overflow: hidden;text-align: left;background-color: #f0f8ff;}#sk-container-id-1 div.sk-toggleable__content pre {margin: 0.2em;color: black;border-radius: 0.25em;background-color: #f0f8ff;}#sk-container-id-1 input.sk-toggleable__control:checked~div.sk-toggleable__content {max-height: 200px;max-width: 100%;overflow: auto;}#sk-container-id-1 input.sk-toggleable__control:checked~label.sk-toggleable__label-arrow:before {content: \"▾\";}#sk-container-id-1 div.sk-estimator input.sk-toggleable__control:checked~label.sk-toggleable__label {background-color: #d4ebff;}#sk-container-id-1 div.sk-label input.sk-toggleable__control:checked~label.sk-toggleable__label {background-color: #d4ebff;}#sk-container-id-1 input.sk-hidden--visually {border: 0;clip: rect(1px 1px 1px 1px);clip: rect(1px, 1px, 1px, 1px);height: 1px;margin: -1px;overflow: hidden;padding: 0;position: absolute;width: 1px;}#sk-container-id-1 div.sk-estimator {font-family: monospace;background-color: #f0f8ff;border: 1px dotted black;border-radius: 0.25em;box-sizing: border-box;margin-bottom: 0.5em;}#sk-container-id-1 div.sk-estimator:hover {background-color: #d4ebff;}#sk-container-id-1 div.sk-parallel-item::after {content: \"\";width: 100%;border-bottom: 1px solid gray;flex-grow: 1;}#sk-container-id-1 div.sk-label:hover label.sk-toggleable__label {background-color: #d4ebff;}#sk-container-id-1 div.sk-serial::before {content: \"\";position: absolute;border-left: 1px solid gray;box-sizing: border-box;top: 0;bottom: 0;left: 50%;z-index: 0;}#sk-container-id-1 div.sk-serial {display: flex;flex-direction: column;align-items: center;background-color: white;padding-right: 0.2em;padding-left: 0.2em;position: relative;}#sk-container-id-1 div.sk-item {position: relative;z-index: 1;}#sk-container-id-1 div.sk-parallel {display: flex;align-items: stretch;justify-content: center;background-color: white;position: relative;}#sk-container-id-1 div.sk-item::before, #sk-container-id-1 div.sk-parallel-item::before {content: \"\";position: absolute;border-left: 1px solid gray;box-sizing: border-box;top: 0;bottom: 0;left: 50%;z-index: -1;}#sk-container-id-1 div.sk-parallel-item {display: flex;flex-direction: column;z-index: 1;position: relative;background-color: white;}#sk-container-id-1 div.sk-parallel-item:first-child::after {align-self: flex-end;width: 50%;}#sk-container-id-1 div.sk-parallel-item:last-child::after {align-self: flex-start;width: 50%;}#sk-container-id-1 div.sk-parallel-item:only-child::after {width: 0;}#sk-container-id-1 div.sk-dashed-wrapped {border: 1px dashed gray;margin: 0 0.4em 0.5em 0.4em;box-sizing: border-box;padding-bottom: 0.4em;background-color: white;}#sk-container-id-1 div.sk-label label {font-family: monospace;font-weight: bold;display: inline-block;line-height: 1.2em;}#sk-container-id-1 div.sk-label-container {text-align: center;}#sk-container-id-1 div.sk-container {/* jupyter's `normalize.less` sets `[hidden] { display: none; }` but bootstrap.min.css set `[hidden] { display: none !important; }` so we also need the `!important` here to be able to override the default hidden behavior on the sphinx rendered scikit-learn.org. See: https://github.com/scikit-learn/scikit-learn/issues/21755 */display: inline-block !important;position: relative;}#sk-container-id-1 div.sk-text-repr-fallback {display: none;}</style><div id=\"sk-container-id-1\" class=\"sk-top-container\"><div class=\"sk-text-repr-fallback\"><pre>ExtraTreesRegressor()</pre><b>In a Jupyter environment, please rerun this cell to show the HTML representation or trust the notebook. <br />On GitHub, the HTML representation is unable to render, please try loading this page with nbviewer.org.</b></div><div class=\"sk-container\" hidden><div class=\"sk-item\"><div class=\"sk-estimator sk-toggleable\"><input class=\"sk-toggleable__control sk-hidden--visually\" id=\"sk-estimator-id-1\" type=\"checkbox\" checked><label for=\"sk-estimator-id-1\" class=\"sk-toggleable__label sk-toggleable__label-arrow\">ExtraTreesRegressor</label><div class=\"sk-toggleable__content\"><pre>ExtraTreesRegressor()</pre></div></div></div></div></div>"
            ]
          },
          "metadata": {},
          "execution_count": 7
        }
      ]
    },
    {
      "cell_type": "markdown",
      "source": [
        "**Accuracy Check**"
      ],
      "metadata": {
        "id": "SfkH9UwWdbHH"
      }
    },
    {
      "cell_type": "code",
      "source": [
        "y_test_pred  = model.predict(xtest)\n",
        "\n",
        "r2_testing = r2_score(ytest,y_test_pred)\n",
        "\n",
        "r2_testing*100"
      ],
      "metadata": {
        "colab": {
          "base_uri": "https://localhost:8080/"
        },
        "id": "44KJ8C4KdGnk",
        "outputId": "58b21ac3-919e-4c74-91ab-edb13cf7487b"
      },
      "execution_count": null,
      "outputs": [
        {
          "output_type": "execute_result",
          "data": {
            "text/plain": [
              "98.26708138489695"
            ]
          },
          "metadata": {},
          "execution_count": 8
        }
      ]
    },
    {
      "cell_type": "markdown",
      "source": [
        "### **Prediction**"
      ],
      "metadata": {
        "id": "yNQgjCQre-1l"
      }
    },
    {
      "cell_type": "markdown",
      "source": [
        "**Test 1**"
      ],
      "metadata": {
        "id": "ipmJjdv4f0uh"
      }
    },
    {
      "cell_type": "code",
      "source": [
        "df.loc[10000].tolist()"
      ],
      "metadata": {
        "colab": {
          "base_uri": "https://localhost:8080/"
        },
        "id": "XSjRiaIyfBR_",
        "outputId": "43b1ebdd-d853-4338-e29f-557bbbbfb4a2"
      },
      "execution_count": null,
      "outputs": [
        {
          "output_type": "execute_result",
          "data": {
            "text/plain": [
              "[16.0,\n",
              " 90.0,\n",
              " 0.0,\n",
              " 18.12,\n",
              " 2.586,\n",
              " 26.0,\n",
              " 2.0,\n",
              " 2010.0,\n",
              " 2.0,\n",
              " 57197.0,\n",
              " 5480.712700000004,\n",
              " 1822.1091000000035,\n",
              " 78.66960000000007,\n",
              " 1486.1364000000003,\n",
              " 2779.062700000003,\n",
              " 189.6018023,\n",
              " 7.039,\n",
              " 5302.95]"
            ]
          },
          "metadata": {},
          "execution_count": 12
        }
      ]
    },
    {
      "cell_type": "code",
      "source": [
        "x.loc[10000].tolist()"
      ],
      "metadata": {
        "colab": {
          "base_uri": "https://localhost:8080/"
        },
        "id": "4_w94vx5fpxB",
        "outputId": "e2d32129-0a5c-4a2e-8b78-55c22160ac79"
      },
      "execution_count": null,
      "outputs": [
        {
          "output_type": "execute_result",
          "data": {
            "text/plain": [
              "[16.0,\n",
              " 90.0,\n",
              " 0.0,\n",
              " 18.12,\n",
              " 2.586,\n",
              " 26.0,\n",
              " 2.0,\n",
              " 2010.0,\n",
              " 2.0,\n",
              " 57197.0,\n",
              " 5480.712700000004,\n",
              " 1822.1091000000035,\n",
              " 78.66960000000007,\n",
              " 1486.1364000000003,\n",
              " 2779.062700000003,\n",
              " 189.6018023,\n",
              " 7.039]"
            ]
          },
          "metadata": {},
          "execution_count": 13
        }
      ]
    },
    {
      "cell_type": "code",
      "source": [
        "predicted_value = model.predict([x.loc[10000].tolist()])\n",
        "\n",
        "predicted_value"
      ],
      "metadata": {
        "colab": {
          "base_uri": "https://localhost:8080/"
        },
        "id": "2UJd-QIEfJzw",
        "outputId": "840c5259-4052-4de9-f7e0-e4cd926e7e73"
      },
      "execution_count": null,
      "outputs": [
        {
          "output_type": "stream",
          "name": "stderr",
          "text": [
            "/usr/local/lib/python3.10/dist-packages/sklearn/base.py:439: UserWarning: X does not have valid feature names, but ExtraTreesRegressor was fitted with feature names\n",
            "  warnings.warn(\n"
          ]
        },
        {
          "output_type": "execute_result",
          "data": {
            "text/plain": [
              "array([5302.95])"
            ]
          },
          "metadata": {},
          "execution_count": 14
        }
      ]
    },
    {
      "cell_type": "markdown",
      "source": [
        "**Test 2**"
      ],
      "metadata": {
        "id": "GNQ97X8VgBdb"
      }
    },
    {
      "cell_type": "code",
      "source": [
        "x.loc[8000].tolist()"
      ],
      "metadata": {
        "colab": {
          "base_uri": "https://localhost:8080/"
        },
        "id": "udw4t3JHgFE3",
        "outputId": "4fd41b41-8813-4fd9-bf18-b2aabcc25dfd"
      },
      "execution_count": null,
      "outputs": [
        {
          "output_type": "execute_result",
          "data": {
            "text/plain": [
              "[30.0,\n",
              " 97.0,\n",
              " 0.0,\n",
              " 39.75,\n",
              " 2.514,\n",
              " 19.0,\n",
              " 2.0,\n",
              " 2010.0,\n",
              " 3.0,\n",
              " 42988.0,\n",
              " 560.1677000000001,\n",
              " 888.5599999999998,\n",
              " 41.91999999999997,\n",
              " 141.33440000000022,\n",
              " 2805.0175999999983,\n",
              " 210.9451605,\n",
              " 8.324]"
            ]
          },
          "metadata": {},
          "execution_count": 15
        }
      ]
    },
    {
      "cell_type": "code",
      "source": [
        "y.loc[8000]"
      ],
      "metadata": {
        "colab": {
          "base_uri": "https://localhost:8080/"
        },
        "id": "R2dq_vmTgJeT",
        "outputId": "e531ad8f-059f-4443-9b4b-c17a5bfeb835"
      },
      "execution_count": null,
      "outputs": [
        {
          "output_type": "execute_result",
          "data": {
            "text/plain": [
              "13058.64"
            ]
          },
          "metadata": {},
          "execution_count": 16
        }
      ]
    },
    {
      "cell_type": "code",
      "source": [
        "predicted_value = model.predict([x.loc[8000].tolist()])\n",
        "\n",
        "predicted_value"
      ],
      "metadata": {
        "colab": {
          "base_uri": "https://localhost:8080/"
        },
        "id": "cR02pkxMgN1F",
        "outputId": "a24f32c2-1ac1-472a-9037-89a7c86f5582"
      },
      "execution_count": null,
      "outputs": [
        {
          "output_type": "stream",
          "name": "stderr",
          "text": [
            "/usr/local/lib/python3.10/dist-packages/sklearn/base.py:439: UserWarning: X does not have valid feature names, but ExtraTreesRegressor was fitted with feature names\n",
            "  warnings.warn(\n"
          ]
        },
        {
          "output_type": "execute_result",
          "data": {
            "text/plain": [
              "array([13058.64])"
            ]
          },
          "metadata": {},
          "execution_count": 17
        }
      ]
    },
    {
      "cell_type": "markdown",
      "source": [
        "**Test 3:**"
      ],
      "metadata": {
        "id": "w6xGOd2ggZOR"
      }
    },
    {
      "cell_type": "code",
      "source": [
        "x.loc[55000].tolist()"
      ],
      "metadata": {
        "colab": {
          "base_uri": "https://localhost:8080/"
        },
        "id": "2Pn6muRCgbqd",
        "outputId": "e3826789-a7f6-4219-c17b-dcf41fa913a8"
      },
      "execution_count": null,
      "outputs": [
        {
          "output_type": "execute_result",
          "data": {
            "text/plain": [
              "[32.0,\n",
              " 2.0,\n",
              " 0.0,\n",
              " 70.86,\n",
              " 2.684,\n",
              " 11.0,\n",
              " 6.0,\n",
              " 2010.0,\n",
              " 1.0,\n",
              " 203007.0,\n",
              " 14109.146400000003,\n",
              " 221.94190000000003,\n",
              " 43.77849999999996,\n",
              " 3545.2662999999984,\n",
              " 5765.758299999995,\n",
              " 189.4000734,\n",
              " 8.963]"
            ]
          },
          "metadata": {},
          "execution_count": 18
        }
      ]
    },
    {
      "cell_type": "code",
      "source": [
        "y.loc[55000].tolist()"
      ],
      "metadata": {
        "colab": {
          "base_uri": "https://localhost:8080/"
        },
        "id": "uBRnLqHHggti",
        "outputId": "767b1996-4ca1-4bbe-a13e-bf2dafc807a1"
      },
      "execution_count": null,
      "outputs": [
        {
          "output_type": "execute_result",
          "data": {
            "text/plain": [
              "50918.38"
            ]
          },
          "metadata": {},
          "execution_count": 19
        }
      ]
    },
    {
      "cell_type": "code",
      "source": [
        "predicted_value = model.predict([x.loc[55000].tolist()])\n",
        "\n",
        "predicted_value"
      ],
      "metadata": {
        "colab": {
          "base_uri": "https://localhost:8080/"
        },
        "id": "Xn2Rpoaugivx",
        "outputId": "340464cb-e92d-4f30-e57d-8dfc48b22637"
      },
      "execution_count": null,
      "outputs": [
        {
          "output_type": "stream",
          "name": "stderr",
          "text": [
            "/usr/local/lib/python3.10/dist-packages/sklearn/base.py:439: UserWarning: X does not have valid feature names, but ExtraTreesRegressor was fitted with feature names\n",
            "  warnings.warn(\n"
          ]
        },
        {
          "output_type": "execute_result",
          "data": {
            "text/plain": [
              "array([50918.38])"
            ]
          },
          "metadata": {},
          "execution_count": 20
        }
      ]
    },
    {
      "cell_type": "markdown",
      "source": [
        "**Final Test**"
      ],
      "metadata": {
        "id": "Ubx9rcLBgrDK"
      }
    },
    {
      "cell_type": "code",
      "source": [
        "data = x.loc[[10000,8000,55000]]\n",
        "data"
      ],
      "metadata": {
        "colab": {
          "base_uri": "https://localhost:8080/",
          "height": 143
        },
        "id": "AD4P4XE2gs-y",
        "outputId": "2eb24207-06fa-45d9-e1d4-d4838940fe76"
      },
      "execution_count": null,
      "outputs": [
        {
          "output_type": "execute_result",
          "data": {
            "text/plain": [
              "       Store  Dept  IsHoliday  Temperature  Fuel_Price  Day  Month  Year  \\\n",
              "10000     16    90          0        18.12       2.586   26      2  2010   \n",
              "8000      30    97          0        39.75       2.514   19      2  2010   \n",
              "55000     32     2          0        70.86       2.684   11      6  2010   \n",
              "\n",
              "       Type    Size   MarkDown1  MarkDown2  MarkDown3  MarkDown4  MarkDown5  \\\n",
              "10000     2   57197   5480.7127  1822.1091    78.6696  1486.1364  2779.0627   \n",
              "8000      3   42988    560.1677   888.5600    41.9200   141.3344  2805.0176   \n",
              "55000     1  203007  14109.1464   221.9419    43.7785  3545.2663  5765.7583   \n",
              "\n",
              "              CPI  Unemployment  \n",
              "10000  189.601802         7.039  \n",
              "8000   210.945160         8.324  \n",
              "55000  189.400073         8.963  "
            ],
            "text/html": [
              "\n",
              "  <div id=\"df-e510718c-26da-45ee-8df8-954da1c7c11c\" class=\"colab-df-container\">\n",
              "    <div>\n",
              "<style scoped>\n",
              "    .dataframe tbody tr th:only-of-type {\n",
              "        vertical-align: middle;\n",
              "    }\n",
              "\n",
              "    .dataframe tbody tr th {\n",
              "        vertical-align: top;\n",
              "    }\n",
              "\n",
              "    .dataframe thead th {\n",
              "        text-align: right;\n",
              "    }\n",
              "</style>\n",
              "<table border=\"1\" class=\"dataframe\">\n",
              "  <thead>\n",
              "    <tr style=\"text-align: right;\">\n",
              "      <th></th>\n",
              "      <th>Store</th>\n",
              "      <th>Dept</th>\n",
              "      <th>IsHoliday</th>\n",
              "      <th>Temperature</th>\n",
              "      <th>Fuel_Price</th>\n",
              "      <th>Day</th>\n",
              "      <th>Month</th>\n",
              "      <th>Year</th>\n",
              "      <th>Type</th>\n",
              "      <th>Size</th>\n",
              "      <th>MarkDown1</th>\n",
              "      <th>MarkDown2</th>\n",
              "      <th>MarkDown3</th>\n",
              "      <th>MarkDown4</th>\n",
              "      <th>MarkDown5</th>\n",
              "      <th>CPI</th>\n",
              "      <th>Unemployment</th>\n",
              "    </tr>\n",
              "  </thead>\n",
              "  <tbody>\n",
              "    <tr>\n",
              "      <th>10000</th>\n",
              "      <td>16</td>\n",
              "      <td>90</td>\n",
              "      <td>0</td>\n",
              "      <td>18.12</td>\n",
              "      <td>2.586</td>\n",
              "      <td>26</td>\n",
              "      <td>2</td>\n",
              "      <td>2010</td>\n",
              "      <td>2</td>\n",
              "      <td>57197</td>\n",
              "      <td>5480.7127</td>\n",
              "      <td>1822.1091</td>\n",
              "      <td>78.6696</td>\n",
              "      <td>1486.1364</td>\n",
              "      <td>2779.0627</td>\n",
              "      <td>189.601802</td>\n",
              "      <td>7.039</td>\n",
              "    </tr>\n",
              "    <tr>\n",
              "      <th>8000</th>\n",
              "      <td>30</td>\n",
              "      <td>97</td>\n",
              "      <td>0</td>\n",
              "      <td>39.75</td>\n",
              "      <td>2.514</td>\n",
              "      <td>19</td>\n",
              "      <td>2</td>\n",
              "      <td>2010</td>\n",
              "      <td>3</td>\n",
              "      <td>42988</td>\n",
              "      <td>560.1677</td>\n",
              "      <td>888.5600</td>\n",
              "      <td>41.9200</td>\n",
              "      <td>141.3344</td>\n",
              "      <td>2805.0176</td>\n",
              "      <td>210.945160</td>\n",
              "      <td>8.324</td>\n",
              "    </tr>\n",
              "    <tr>\n",
              "      <th>55000</th>\n",
              "      <td>32</td>\n",
              "      <td>2</td>\n",
              "      <td>0</td>\n",
              "      <td>70.86</td>\n",
              "      <td>2.684</td>\n",
              "      <td>11</td>\n",
              "      <td>6</td>\n",
              "      <td>2010</td>\n",
              "      <td>1</td>\n",
              "      <td>203007</td>\n",
              "      <td>14109.1464</td>\n",
              "      <td>221.9419</td>\n",
              "      <td>43.7785</td>\n",
              "      <td>3545.2663</td>\n",
              "      <td>5765.7583</td>\n",
              "      <td>189.400073</td>\n",
              "      <td>8.963</td>\n",
              "    </tr>\n",
              "  </tbody>\n",
              "</table>\n",
              "</div>\n",
              "    <div class=\"colab-df-buttons\">\n",
              "\n",
              "  <div class=\"colab-df-container\">\n",
              "    <button class=\"colab-df-convert\" onclick=\"convertToInteractive('df-e510718c-26da-45ee-8df8-954da1c7c11c')\"\n",
              "            title=\"Convert this dataframe to an interactive table.\"\n",
              "            style=\"display:none;\">\n",
              "\n",
              "  <svg xmlns=\"http://www.w3.org/2000/svg\" height=\"24px\" viewBox=\"0 -960 960 960\">\n",
              "    <path d=\"M120-120v-720h720v720H120Zm60-500h600v-160H180v160Zm220 220h160v-160H400v160Zm0 220h160v-160H400v160ZM180-400h160v-160H180v160Zm440 0h160v-160H620v160ZM180-180h160v-160H180v160Zm440 0h160v-160H620v160Z\"/>\n",
              "  </svg>\n",
              "    </button>\n",
              "\n",
              "  <style>\n",
              "    .colab-df-container {\n",
              "      display:flex;\n",
              "      gap: 12px;\n",
              "    }\n",
              "\n",
              "    .colab-df-convert {\n",
              "      background-color: #E8F0FE;\n",
              "      border: none;\n",
              "      border-radius: 50%;\n",
              "      cursor: pointer;\n",
              "      display: none;\n",
              "      fill: #1967D2;\n",
              "      height: 32px;\n",
              "      padding: 0 0 0 0;\n",
              "      width: 32px;\n",
              "    }\n",
              "\n",
              "    .colab-df-convert:hover {\n",
              "      background-color: #E2EBFA;\n",
              "      box-shadow: 0px 1px 2px rgba(60, 64, 67, 0.3), 0px 1px 3px 1px rgba(60, 64, 67, 0.15);\n",
              "      fill: #174EA6;\n",
              "    }\n",
              "\n",
              "    .colab-df-buttons div {\n",
              "      margin-bottom: 4px;\n",
              "    }\n",
              "\n",
              "    [theme=dark] .colab-df-convert {\n",
              "      background-color: #3B4455;\n",
              "      fill: #D2E3FC;\n",
              "    }\n",
              "\n",
              "    [theme=dark] .colab-df-convert:hover {\n",
              "      background-color: #434B5C;\n",
              "      box-shadow: 0px 1px 3px 1px rgba(0, 0, 0, 0.15);\n",
              "      filter: drop-shadow(0px 1px 2px rgba(0, 0, 0, 0.3));\n",
              "      fill: #FFFFFF;\n",
              "    }\n",
              "  </style>\n",
              "\n",
              "    <script>\n",
              "      const buttonEl =\n",
              "        document.querySelector('#df-e510718c-26da-45ee-8df8-954da1c7c11c button.colab-df-convert');\n",
              "      buttonEl.style.display =\n",
              "        google.colab.kernel.accessAllowed ? 'block' : 'none';\n",
              "\n",
              "      async function convertToInteractive(key) {\n",
              "        const element = document.querySelector('#df-e510718c-26da-45ee-8df8-954da1c7c11c');\n",
              "        const dataTable =\n",
              "          await google.colab.kernel.invokeFunction('convertToInteractive',\n",
              "                                                    [key], {});\n",
              "        if (!dataTable) return;\n",
              "\n",
              "        const docLinkHtml = 'Like what you see? Visit the ' +\n",
              "          '<a target=\"_blank\" href=https://colab.research.google.com/notebooks/data_table.ipynb>data table notebook</a>'\n",
              "          + ' to learn more about interactive tables.';\n",
              "        element.innerHTML = '';\n",
              "        dataTable['output_type'] = 'display_data';\n",
              "        await google.colab.output.renderOutput(dataTable, element);\n",
              "        const docLink = document.createElement('div');\n",
              "        docLink.innerHTML = docLinkHtml;\n",
              "        element.appendChild(docLink);\n",
              "      }\n",
              "    </script>\n",
              "  </div>\n",
              "\n",
              "\n",
              "<div id=\"df-fec33c69-7f1d-480b-850a-b91462bde8c1\">\n",
              "  <button class=\"colab-df-quickchart\" onclick=\"quickchart('df-fec33c69-7f1d-480b-850a-b91462bde8c1')\"\n",
              "            title=\"Suggest charts\"\n",
              "            style=\"display:none;\">\n",
              "\n",
              "<svg xmlns=\"http://www.w3.org/2000/svg\" height=\"24px\"viewBox=\"0 0 24 24\"\n",
              "     width=\"24px\">\n",
              "    <g>\n",
              "        <path d=\"M19 3H5c-1.1 0-2 .9-2 2v14c0 1.1.9 2 2 2h14c1.1 0 2-.9 2-2V5c0-1.1-.9-2-2-2zM9 17H7v-7h2v7zm4 0h-2V7h2v10zm4 0h-2v-4h2v4z\"/>\n",
              "    </g>\n",
              "</svg>\n",
              "  </button>\n",
              "\n",
              "<style>\n",
              "  .colab-df-quickchart {\n",
              "      --bg-color: #E8F0FE;\n",
              "      --fill-color: #1967D2;\n",
              "      --hover-bg-color: #E2EBFA;\n",
              "      --hover-fill-color: #174EA6;\n",
              "      --disabled-fill-color: #AAA;\n",
              "      --disabled-bg-color: #DDD;\n",
              "  }\n",
              "\n",
              "  [theme=dark] .colab-df-quickchart {\n",
              "      --bg-color: #3B4455;\n",
              "      --fill-color: #D2E3FC;\n",
              "      --hover-bg-color: #434B5C;\n",
              "      --hover-fill-color: #FFFFFF;\n",
              "      --disabled-bg-color: #3B4455;\n",
              "      --disabled-fill-color: #666;\n",
              "  }\n",
              "\n",
              "  .colab-df-quickchart {\n",
              "    background-color: var(--bg-color);\n",
              "    border: none;\n",
              "    border-radius: 50%;\n",
              "    cursor: pointer;\n",
              "    display: none;\n",
              "    fill: var(--fill-color);\n",
              "    height: 32px;\n",
              "    padding: 0;\n",
              "    width: 32px;\n",
              "  }\n",
              "\n",
              "  .colab-df-quickchart:hover {\n",
              "    background-color: var(--hover-bg-color);\n",
              "    box-shadow: 0 1px 2px rgba(60, 64, 67, 0.3), 0 1px 3px 1px rgba(60, 64, 67, 0.15);\n",
              "    fill: var(--button-hover-fill-color);\n",
              "  }\n",
              "\n",
              "  .colab-df-quickchart-complete:disabled,\n",
              "  .colab-df-quickchart-complete:disabled:hover {\n",
              "    background-color: var(--disabled-bg-color);\n",
              "    fill: var(--disabled-fill-color);\n",
              "    box-shadow: none;\n",
              "  }\n",
              "\n",
              "  .colab-df-spinner {\n",
              "    border: 2px solid var(--fill-color);\n",
              "    border-color: transparent;\n",
              "    border-bottom-color: var(--fill-color);\n",
              "    animation:\n",
              "      spin 1s steps(1) infinite;\n",
              "  }\n",
              "\n",
              "  @keyframes spin {\n",
              "    0% {\n",
              "      border-color: transparent;\n",
              "      border-bottom-color: var(--fill-color);\n",
              "      border-left-color: var(--fill-color);\n",
              "    }\n",
              "    20% {\n",
              "      border-color: transparent;\n",
              "      border-left-color: var(--fill-color);\n",
              "      border-top-color: var(--fill-color);\n",
              "    }\n",
              "    30% {\n",
              "      border-color: transparent;\n",
              "      border-left-color: var(--fill-color);\n",
              "      border-top-color: var(--fill-color);\n",
              "      border-right-color: var(--fill-color);\n",
              "    }\n",
              "    40% {\n",
              "      border-color: transparent;\n",
              "      border-right-color: var(--fill-color);\n",
              "      border-top-color: var(--fill-color);\n",
              "    }\n",
              "    60% {\n",
              "      border-color: transparent;\n",
              "      border-right-color: var(--fill-color);\n",
              "    }\n",
              "    80% {\n",
              "      border-color: transparent;\n",
              "      border-right-color: var(--fill-color);\n",
              "      border-bottom-color: var(--fill-color);\n",
              "    }\n",
              "    90% {\n",
              "      border-color: transparent;\n",
              "      border-bottom-color: var(--fill-color);\n",
              "    }\n",
              "  }\n",
              "</style>\n",
              "\n",
              "  <script>\n",
              "    async function quickchart(key) {\n",
              "      const quickchartButtonEl =\n",
              "        document.querySelector('#' + key + ' button');\n",
              "      quickchartButtonEl.disabled = true;  // To prevent multiple clicks.\n",
              "      quickchartButtonEl.classList.add('colab-df-spinner');\n",
              "      try {\n",
              "        const charts = await google.colab.kernel.invokeFunction(\n",
              "            'suggestCharts', [key], {});\n",
              "      } catch (error) {\n",
              "        console.error('Error during call to suggestCharts:', error);\n",
              "      }\n",
              "      quickchartButtonEl.classList.remove('colab-df-spinner');\n",
              "      quickchartButtonEl.classList.add('colab-df-quickchart-complete');\n",
              "    }\n",
              "    (() => {\n",
              "      let quickchartButtonEl =\n",
              "        document.querySelector('#df-fec33c69-7f1d-480b-850a-b91462bde8c1 button');\n",
              "      quickchartButtonEl.style.display =\n",
              "        google.colab.kernel.accessAllowed ? 'block' : 'none';\n",
              "    })();\n",
              "  </script>\n",
              "</div>\n",
              "    </div>\n",
              "  </div>\n"
            ]
          },
          "metadata": {},
          "execution_count": 24
        }
      ]
    },
    {
      "cell_type": "code",
      "source": [
        "actual = [y.loc[10000],y.loc[8000],y.loc[55000]]\n",
        "actual"
      ],
      "metadata": {
        "colab": {
          "base_uri": "https://localhost:8080/"
        },
        "id": "REWZuJmXg22a",
        "outputId": "a085ea6f-5e65-493e-f29d-456a17e94bb0"
      },
      "execution_count": null,
      "outputs": [
        {
          "output_type": "execute_result",
          "data": {
            "text/plain": [
              "[5302.95, 13058.64, 50918.38]"
            ]
          },
          "metadata": {},
          "execution_count": 25
        }
      ]
    },
    {
      "cell_type": "code",
      "source": [
        "predicted = model.predict(data)\n",
        "\n",
        "predicted"
      ],
      "metadata": {
        "colab": {
          "base_uri": "https://localhost:8080/"
        },
        "id": "WWFkbdkEhYFJ",
        "outputId": "6753a136-6e13-410e-8ea7-db2279a953a8"
      },
      "execution_count": null,
      "outputs": [
        {
          "output_type": "execute_result",
          "data": {
            "text/plain": [
              "array([ 5302.95    , 13760.183169, 50254.7555  ])"
            ]
          },
          "metadata": {},
          "execution_count": 26
        }
      ]
    },
    {
      "cell_type": "markdown",
      "source": [
        "### **Plot**"
      ],
      "metadata": {
        "id": "nYi_6gGljG_b"
      }
    },
    {
      "cell_type": "code",
      "source": [
        "difference = [actual[i]-predicted[i] for i in range(len(actual))]\n",
        "\n",
        "print(f'Difference : {difference}')\n",
        "\n",
        "print()\n",
        "\n",
        "plt.plot(actual,label='Actual',color='r')\n",
        "plt.plot(predicted,label='Predicted',color='g')\n",
        "plt.plot(difference,label='Difference',color='b')\n",
        "plt.legend()\n",
        "\n",
        "plt.title('Actual v.s Predicted Difference')\n",
        "plt.show()"
      ],
      "metadata": {
        "colab": {
          "base_uri": "https://localhost:8080/",
          "height": 487
        },
        "id": "5xOSUE1CjGCW",
        "outputId": "0c623c2b-4190-49d4-d4df-8934b0cf51f1"
      },
      "execution_count": null,
      "outputs": [
        {
          "output_type": "stream",
          "name": "stdout",
          "text": [
            "Difference : [-7.275957614183426e-12, -701.5431690000096, 663.6245000000199]\n",
            "\n"
          ]
        },
        {
          "output_type": "display_data",
          "data": {
            "text/plain": [
              "<Figure size 640x480 with 1 Axes>"
            ],
            "image/png": "[encoded data removed]"
          },
          "metadata": {}
        }
      ]
    },
    {
      "cell_type": "markdown",
      "source": [
        "\n",
        "\n",
        "```\n",
        "Note : The difference b.w actual and predicted is low (2%)\n",
        "\n",
        "```\n",
        "\n"
      ],
      "metadata": {
        "id": "82LGe9Zckc6F"
      }
    },
    {
      "cell_type": "markdown",
      "source": [
        "### **Feature Importance**"
      ],
      "metadata": {
        "id": "CZnp0Vu04jB7"
      }
    },
    {
      "cell_type": "code",
      "source": [
        "importance = model.feature_importances_\n",
        "importance"
      ],
      "metadata": {
        "colab": {
          "base_uri": "https://localhost:8080/"
        },
        "id": "saExnOkC4myf",
        "outputId": "da8c8ed9-c62f-4f6a-bc31-4aa9c49e0b50"
      },
      "execution_count": null,
      "outputs": [
        {
          "output_type": "execute_result",
          "data": {
            "text/plain": [
              "array([0.04018872, 0.73314955, 0.00308391, 0.00790911, 0.00283638,\n",
              "       0.00662044, 0.01705309, 0.00382283, 0.03234079, 0.09268139,\n",
              "       0.00315659, 0.00263434, 0.02044777, 0.00345366, 0.00259665,\n",
              "       0.01969483, 0.00832996])"
            ]
          },
          "metadata": {},
          "execution_count": 28
        }
      ]
    },
    {
      "cell_type": "code",
      "source": [
        "feature = [i for i in x.columns]\n",
        "feature"
      ],
      "metadata": {
        "colab": {
          "base_uri": "https://localhost:8080/"
        },
        "id": "qWzDa6-l4mt4",
        "outputId": "429786ce-f63a-426a-e420-720dd8e59238"
      },
      "execution_count": null,
      "outputs": [
        {
          "output_type": "execute_result",
          "data": {
            "text/plain": [
              "['Store',\n",
              " 'Dept',\n",
              " 'IsHoliday',\n",
              " 'Temperature',\n",
              " 'Fuel_Price',\n",
              " 'Day',\n",
              " 'Month',\n",
              " 'Year',\n",
              " 'Type',\n",
              " 'Size',\n",
              " 'MarkDown1',\n",
              " 'MarkDown2',\n",
              " 'MarkDown3',\n",
              " 'MarkDown4',\n",
              " 'MarkDown5',\n",
              " 'CPI',\n",
              " 'Unemployment']"
            ]
          },
          "metadata": {},
          "execution_count": 29
        }
      ]
    },
    {
      "cell_type": "code",
      "source": [
        "feature_importance = {}\n",
        "\n",
        "for i in range(len(feature)):\n",
        "     feature_importance.update({feature[i]:importance[i]*100})\n",
        "\n",
        "feature_importance"
      ],
      "metadata": {
        "colab": {
          "base_uri": "https://localhost:8080/"
        },
        "id": "QwSwLhDN4mqi",
        "outputId": "ca3c0d65-79d1-41b4-9af0-0772bd70dded"
      },
      "execution_count": null,
      "outputs": [
        {
          "output_type": "execute_result",
          "data": {
            "text/plain": [
              "{'Store': 4.018871644716872,\n",
              " 'Dept': 73.31495507698679,\n",
              " 'IsHoliday': 0.3083906597249284,\n",
              " 'Temperature': 0.7909113405780618,\n",
              " 'Fuel_Price': 0.28363787401610946,\n",
              " 'Day': 0.6620442440031789,\n",
              " 'Month': 1.7053091950883892,\n",
              " 'Year': 0.3822828532404087,\n",
              " 'Type': 3.2340786770938967,\n",
              " 'Size': 9.268138616390127,\n",
              " 'MarkDown1': 0.31565883333140615,\n",
              " 'MarkDown2': 0.2634338165841277,\n",
              " 'MarkDown3': 2.044776773704312,\n",
              " 'MarkDown4': 0.34536648670682507,\n",
              " 'MarkDown5': 0.25966467210987465,\n",
              " 'CPI': 1.9694833593606995,\n",
              " 'Unemployment': 0.8329958763639804}"
            ]
          },
          "metadata": {},
          "execution_count": 30
        }
      ]
    },
    {
      "cell_type": "code",
      "source": [
        "sorted_feature_importance  = dict(sorted(feature_importance.items(),key=lambda item : item[1],reverse=True))\n",
        "sorted_feature_importance"
      ],
      "metadata": {
        "colab": {
          "base_uri": "https://localhost:8080/"
        },
        "id": "rCo2fu4M4moP",
        "outputId": "e73babf3-6b83-463d-cbf3-e78847f2e952"
      },
      "execution_count": null,
      "outputs": [
        {
          "output_type": "execute_result",
          "data": {
            "text/plain": [
              "{'Dept': 73.31495507698679,\n",
              " 'Size': 9.268138616390127,\n",
              " 'Store': 4.018871644716872,\n",
              " 'Type': 3.2340786770938967,\n",
              " 'MarkDown3': 2.044776773704312,\n",
              " 'CPI': 1.9694833593606995,\n",
              " 'Month': 1.7053091950883892,\n",
              " 'Unemployment': 0.8329958763639804,\n",
              " 'Temperature': 0.7909113405780618,\n",
              " 'Day': 0.6620442440031789,\n",
              " 'Year': 0.3822828532404087,\n",
              " 'MarkDown4': 0.34536648670682507,\n",
              " 'MarkDown1': 0.31565883333140615,\n",
              " 'IsHoliday': 0.3083906597249284,\n",
              " 'Fuel_Price': 0.28363787401610946,\n",
              " 'MarkDown2': 0.2634338165841277,\n",
              " 'MarkDown5': 0.25966467210987465}"
            ]
          },
          "metadata": {},
          "execution_count": 31
        }
      ]
    },
    {
      "cell_type": "code",
      "source": [
        "plt.figure(figsize=(10,7))\n",
        "sns.barplot(x=[i for i in sorted_feature_importance.values()],y=[i for i in sorted_feature_importance.keys()],color='g').set(title='Feature Importance Using ExtraTreesRegressor')\n",
        "plt.show()"
      ],
      "metadata": {
        "id": "Ql1jXeNM4y06",
        "colab": {
          "base_uri": "https://localhost:8080/",
          "height": 622
        },
        "outputId": "7ec5b99e-b91b-4509-f392-9a2aec7be637"
      },
      "execution_count": null,
      "outputs": [
        {
          "output_type": "display_data",
          "data": {
            "text/plain": [
              "<Figure size 1000x700 with 1 Axes>"
            ],
            "image/png": "[encoded data removed]"
          },
          "metadata": {}
        }
      ]
    },
    {
      "cell_type": "markdown",
      "source": [
        "### **Pickle File**"
      ],
      "metadata": {
        "id": "EhsZ81tL6obm"
      }
    },
    {
      "cell_type": "code",
      "source": [
        "import pickle\n",
        "\n",
        "import sklearn\n",
        "\n",
        "sklearn.__version__"
      ],
      "metadata": {
        "id": "cGP9cvRL6rSw",
        "colab": {
          "base_uri": "https://localhost:8080/",
          "height": 36
        },
        "outputId": "c644eeb1-ee30-4326-f0bb-807b2350bdb4"
      },
      "execution_count": null,
      "outputs": [
        {
          "output_type": "execute_result",
          "data": {
            "text/plain": [
              "'1.2.2'"
            ],
            "application/vnd.google.colaboratory.intrinsic+json": {
              "type": "string"
            }
          },
          "metadata": {},
          "execution_count": 30
        }
      ]
    },
    {
      "cell_type": "markdown",
      "source": [
        "**Download The Model**"
      ],
      "metadata": {
        "id": "NS7q7wfK6tf4"
      }
    },
    {
      "cell_type": "code",
      "source": [
        "with open('regressor_model.pkl','wb') as f:\n",
        "  pickle.dump(model,f)"
      ],
      "metadata": {
        "id": "yJXngkfx6tHi"
      },
      "execution_count": null,
      "outputs": []
    }
  ],
  "metadata": {
    "colab": {
      "collapsed_sections": [
        "pPq6i7fvaUu8",
        "0pdke7wgRwH6",
        "PrFgqxEPSKXn",
        "klpsM5r04Qlb",
        "-k2GOs11SO4Q",
        "i7uZrkObbvrB",
        "yNQgjCQre-1l",
        "nYi_6gGljG_b",
        "CZnp0Vu04jB7",
        "EhsZ81tL6obm",
        "PPILS4esomGt",
        "SaZHAl1opSQq",
        "AS1z5ZhO0y29",
        "Koa04eRHUaZr"
      ],
      "provenance": []
    },
    "kernelspec": {
      "display_name": "Python 3",
      "name": "python3"
    },
    "language_info": {
      "name": "python"
    }
  },
  "nbformat": 4,
  "nbformat_minor": 0
}